{
 "cells": [
  {
   "cell_type": "markdown",
   "metadata": {},
   "source": [
    "# Women and Children first!\n",
    "## An analysis of survival rates of passengers aboard the Titanic\n",
    "### Guy Bourne\n",
    "#### Udacity Data Analysis Nanodegree Project 2: Investigate a dataset\n",
    "\n",
    "## Introduction\n",
    "This report aims to explore and evaluate the popular Titanic dataset from [Kaggle](https://www.kaggle.com/c/titanic \"Titanic dataset on Kaggle\"). Primarily we will investigate the gender, travel class and age. The usual modus operandi with this dataset is to look at the relationship if the variables and survival. We'll be taking a look at that and anything else interesting that crops up along the way. In particular, we'll be taking a look at the old addage \"Women and Children first!\" and seeing whther this really was the case with the sinking of the Titanic. \n",
    "\n",
    "Whilst women are well defined in the dataset, let us set a threshold on age for a 'child'. \n",
    "\n",
    "Lisa Wade makes the point  \n",
    "\n",
    ">_\"The idea that children should have a childhood is actually pretty recent. Before industrialization, when families tended to work their own land, children got to work as soon as they were able.  Being apprentices to their parents was the difference between life and death... The first federal law regulating child labor was passed in 1938.\"_\n",
    "\n",
    "_Lisa Wade, [Child Labour in America 1908-1912](https://thesocietypages.org/socimages/2009/12/03/child-labor-in-america-1908-1912/, \"Link to images\")_\n",
    "\n",
    "For now let's set the threshold at 10 years old. I know my Dad certainly thought I should be earning my keep by then (but it was more washing dishes and paper rounds than manual labour...)\n",
    "\n",
    "To conduct this analysis, we will follow the process below:\n",
    "\n",
    "* Ingest the data in CSV format\n",
    "* Perform basic checks on the data to understand if any wrangling is required\n",
    "* Perform univariate analysis to understand frequencies and distributions of the data\n",
    "* Perform multivariate analysis, specifically looking at correlations and scatter plots to observe any non linear relationships\n",
    "\n",
    "Once the initial analysis phase is complete, we will evaluate our findings and apply tests to measure their statistical significance, capturing our conclusions.\n",
    "\n",
    "It is worth noting that this project has a number of limitations, namely:\n",
    "\n",
    "1. I'm a n00b @ python\n",
    "2. Jupyter is also new for me (but I'm liking it)!\n",
    "3. There are likely to be data quality issues that require assumptions\n",
    "4. This analysis will not include regression modelling, limiting our ability to measure each variable in complete context.\n",
    "\n",
    "Enough waffle. Let's crack on with the fun stuff.\n",
    "\n",
    "### Environment Setup"
   ]
  },
  {
   "cell_type": "code",
   "execution_count": 1,
   "metadata": {
    "collapsed": true
   },
   "outputs": [],
   "source": [
    "### IMPORT PACKAGES\n",
    "import math \n",
    "import pandas as pd\n",
    "from pandas.tools import plotting\n",
    "import numpy as np\n",
    "import scipy as sp\n",
    "from scipy import stats\n",
    "import matplotlib.pyplot as plt\n",
    "import seaborn as sns\n",
    "\n",
    "%matplotlib inline"
   ]
  },
  {
   "cell_type": "markdown",
   "metadata": {},
   "source": [
    "### Importing the data\n",
    "Now that we have the relevant packages imported, we can bring in the data."
   ]
  },
  {
   "cell_type": "code",
   "execution_count": 2,
   "metadata": {
    "scrolled": true
   },
   "outputs": [
    {
     "name": "stdout",
     "output_type": "stream",
     "text": [
      "The data has the following shape (Row,Col): (891, 12)\n",
      "\n",
      "\n",
      "Displaying the first 10 rows of data...\n",
      "\n",
      "\n"
     ]
    },
    {
     "data": {
      "text/html": [
       "<div>\n",
       "<table border=\"1\" class=\"dataframe\">\n",
       "  <thead>\n",
       "    <tr style=\"text-align: right;\">\n",
       "      <th></th>\n",
       "      <th>PassengerId</th>\n",
       "      <th>Survived</th>\n",
       "      <th>Pclass</th>\n",
       "      <th>Name</th>\n",
       "      <th>Sex</th>\n",
       "      <th>Age</th>\n",
       "      <th>SibSp</th>\n",
       "      <th>Parch</th>\n",
       "      <th>Ticket</th>\n",
       "      <th>Fare</th>\n",
       "      <th>Cabin</th>\n",
       "      <th>Embarked</th>\n",
       "    </tr>\n",
       "  </thead>\n",
       "  <tbody>\n",
       "    <tr>\n",
       "      <th>0</th>\n",
       "      <td>1</td>\n",
       "      <td>0</td>\n",
       "      <td>3</td>\n",
       "      <td>Braund, Mr. Owen Harris</td>\n",
       "      <td>male</td>\n",
       "      <td>22.0</td>\n",
       "      <td>1</td>\n",
       "      <td>0</td>\n",
       "      <td>A/5 21171</td>\n",
       "      <td>7.2500</td>\n",
       "      <td>NaN</td>\n",
       "      <td>S</td>\n",
       "    </tr>\n",
       "    <tr>\n",
       "      <th>1</th>\n",
       "      <td>2</td>\n",
       "      <td>1</td>\n",
       "      <td>1</td>\n",
       "      <td>Cumings, Mrs. John Bradley (Florence Briggs Th...</td>\n",
       "      <td>female</td>\n",
       "      <td>38.0</td>\n",
       "      <td>1</td>\n",
       "      <td>0</td>\n",
       "      <td>PC 17599</td>\n",
       "      <td>71.2833</td>\n",
       "      <td>C85</td>\n",
       "      <td>C</td>\n",
       "    </tr>\n",
       "    <tr>\n",
       "      <th>2</th>\n",
       "      <td>3</td>\n",
       "      <td>1</td>\n",
       "      <td>3</td>\n",
       "      <td>Heikkinen, Miss. Laina</td>\n",
       "      <td>female</td>\n",
       "      <td>26.0</td>\n",
       "      <td>0</td>\n",
       "      <td>0</td>\n",
       "      <td>STON/O2. 3101282</td>\n",
       "      <td>7.9250</td>\n",
       "      <td>NaN</td>\n",
       "      <td>S</td>\n",
       "    </tr>\n",
       "    <tr>\n",
       "      <th>3</th>\n",
       "      <td>4</td>\n",
       "      <td>1</td>\n",
       "      <td>1</td>\n",
       "      <td>Futrelle, Mrs. Jacques Heath (Lily May Peel)</td>\n",
       "      <td>female</td>\n",
       "      <td>35.0</td>\n",
       "      <td>1</td>\n",
       "      <td>0</td>\n",
       "      <td>113803</td>\n",
       "      <td>53.1000</td>\n",
       "      <td>C123</td>\n",
       "      <td>S</td>\n",
       "    </tr>\n",
       "    <tr>\n",
       "      <th>4</th>\n",
       "      <td>5</td>\n",
       "      <td>0</td>\n",
       "      <td>3</td>\n",
       "      <td>Allen, Mr. William Henry</td>\n",
       "      <td>male</td>\n",
       "      <td>35.0</td>\n",
       "      <td>0</td>\n",
       "      <td>0</td>\n",
       "      <td>373450</td>\n",
       "      <td>8.0500</td>\n",
       "      <td>NaN</td>\n",
       "      <td>S</td>\n",
       "    </tr>\n",
       "    <tr>\n",
       "      <th>5</th>\n",
       "      <td>6</td>\n",
       "      <td>0</td>\n",
       "      <td>3</td>\n",
       "      <td>Moran, Mr. James</td>\n",
       "      <td>male</td>\n",
       "      <td>NaN</td>\n",
       "      <td>0</td>\n",
       "      <td>0</td>\n",
       "      <td>330877</td>\n",
       "      <td>8.4583</td>\n",
       "      <td>NaN</td>\n",
       "      <td>Q</td>\n",
       "    </tr>\n",
       "    <tr>\n",
       "      <th>6</th>\n",
       "      <td>7</td>\n",
       "      <td>0</td>\n",
       "      <td>1</td>\n",
       "      <td>McCarthy, Mr. Timothy J</td>\n",
       "      <td>male</td>\n",
       "      <td>54.0</td>\n",
       "      <td>0</td>\n",
       "      <td>0</td>\n",
       "      <td>17463</td>\n",
       "      <td>51.8625</td>\n",
       "      <td>E46</td>\n",
       "      <td>S</td>\n",
       "    </tr>\n",
       "    <tr>\n",
       "      <th>7</th>\n",
       "      <td>8</td>\n",
       "      <td>0</td>\n",
       "      <td>3</td>\n",
       "      <td>Palsson, Master. Gosta Leonard</td>\n",
       "      <td>male</td>\n",
       "      <td>2.0</td>\n",
       "      <td>3</td>\n",
       "      <td>1</td>\n",
       "      <td>349909</td>\n",
       "      <td>21.0750</td>\n",
       "      <td>NaN</td>\n",
       "      <td>S</td>\n",
       "    </tr>\n",
       "    <tr>\n",
       "      <th>8</th>\n",
       "      <td>9</td>\n",
       "      <td>1</td>\n",
       "      <td>3</td>\n",
       "      <td>Johnson, Mrs. Oscar W (Elisabeth Vilhelmina Berg)</td>\n",
       "      <td>female</td>\n",
       "      <td>27.0</td>\n",
       "      <td>0</td>\n",
       "      <td>2</td>\n",
       "      <td>347742</td>\n",
       "      <td>11.1333</td>\n",
       "      <td>NaN</td>\n",
       "      <td>S</td>\n",
       "    </tr>\n",
       "    <tr>\n",
       "      <th>9</th>\n",
       "      <td>10</td>\n",
       "      <td>1</td>\n",
       "      <td>2</td>\n",
       "      <td>Nasser, Mrs. Nicholas (Adele Achem)</td>\n",
       "      <td>female</td>\n",
       "      <td>14.0</td>\n",
       "      <td>1</td>\n",
       "      <td>0</td>\n",
       "      <td>237736</td>\n",
       "      <td>30.0708</td>\n",
       "      <td>NaN</td>\n",
       "      <td>C</td>\n",
       "    </tr>\n",
       "  </tbody>\n",
       "</table>\n",
       "</div>"
      ],
      "text/plain": [
       "   PassengerId  Survived  Pclass  \\\n",
       "0            1         0       3   \n",
       "1            2         1       1   \n",
       "2            3         1       3   \n",
       "3            4         1       1   \n",
       "4            5         0       3   \n",
       "5            6         0       3   \n",
       "6            7         0       1   \n",
       "7            8         0       3   \n",
       "8            9         1       3   \n",
       "9           10         1       2   \n",
       "\n",
       "                                                Name     Sex   Age  SibSp  \\\n",
       "0                            Braund, Mr. Owen Harris    male  22.0      1   \n",
       "1  Cumings, Mrs. John Bradley (Florence Briggs Th...  female  38.0      1   \n",
       "2                             Heikkinen, Miss. Laina  female  26.0      0   \n",
       "3       Futrelle, Mrs. Jacques Heath (Lily May Peel)  female  35.0      1   \n",
       "4                           Allen, Mr. William Henry    male  35.0      0   \n",
       "5                                   Moran, Mr. James    male   NaN      0   \n",
       "6                            McCarthy, Mr. Timothy J    male  54.0      0   \n",
       "7                     Palsson, Master. Gosta Leonard    male   2.0      3   \n",
       "8  Johnson, Mrs. Oscar W (Elisabeth Vilhelmina Berg)  female  27.0      0   \n",
       "9                Nasser, Mrs. Nicholas (Adele Achem)  female  14.0      1   \n",
       "\n",
       "   Parch            Ticket     Fare Cabin Embarked  \n",
       "0      0         A/5 21171   7.2500   NaN        S  \n",
       "1      0          PC 17599  71.2833   C85        C  \n",
       "2      0  STON/O2. 3101282   7.9250   NaN        S  \n",
       "3      0            113803  53.1000  C123        S  \n",
       "4      0            373450   8.0500   NaN        S  \n",
       "5      0            330877   8.4583   NaN        Q  \n",
       "6      0             17463  51.8625   E46        S  \n",
       "7      1            349909  21.0750   NaN        S  \n",
       "8      2            347742  11.1333   NaN        S  \n",
       "9      0            237736  30.0708   NaN        C  "
      ]
     },
     "execution_count": 2,
     "metadata": {},
     "output_type": "execute_result"
    }
   ],
   "source": [
    "### IMPORT THE TITANIC DATASET\n",
    "\n",
    "raw_data = pd.read_csv('titanic.csv')\n",
    "\n",
    "## lOOK AT THE SHAPE OF THE DATA \n",
    "print \"The data has the following shape (Row,Col):\", raw_data.shape\n",
    "print '\\n'\n",
    "\n",
    "\n",
    "\n",
    "##Display the top 10 rows\n",
    "print \"Displaying the first 10 rows of data...\"\n",
    "print '\\n'\n",
    "raw_data[0:10]"
   ]
  },
  {
   "cell_type": "markdown",
   "metadata": {},
   "source": [
    "By viewing the top 10 rows of the data we can get a glimpse of the data. Even within the first 10 rows there are missing values in the Age and Cabin variables.\n",
    "\n",
    "### Univariate analysis and initial exploration\n",
    "Let's explore the data in more detail. We'll begin by producing the summary statistics for all numeric variables."
   ]
  },
  {
   "cell_type": "code",
   "execution_count": 3,
   "metadata": {},
   "outputs": [
    {
     "name": "stdout",
     "output_type": "stream",
     "text": [
      "Print summary stats for all numeric variables\n",
      "       PassengerId    Survived      Pclass         Age       SibSp  \\\n",
      "count   891.000000  891.000000  891.000000  714.000000  891.000000   \n",
      "mean    446.000000    0.383838    2.308642   29.699118    0.523008   \n",
      "std     257.353842    0.486592    0.836071   14.526497    1.102743   \n",
      "min       1.000000    0.000000    1.000000    0.420000    0.000000   \n",
      "25%     223.500000    0.000000    2.000000   20.125000    0.000000   \n",
      "50%     446.000000    0.000000    3.000000   28.000000    0.000000   \n",
      "75%     668.500000    1.000000    3.000000   38.000000    1.000000   \n",
      "max     891.000000    1.000000    3.000000   80.000000    8.000000   \n",
      "\n",
      "            Parch        Fare  \n",
      "count  891.000000  891.000000  \n",
      "mean     0.381594   32.204208  \n",
      "std      0.806057   49.693429  \n",
      "min      0.000000    0.000000  \n",
      "25%      0.000000    7.910400  \n",
      "50%      0.000000   14.454200  \n",
      "75%      0.000000   31.000000  \n",
      "max      6.000000  512.329200  \n",
      "\n",
      "\n",
      "Counts for sex\n",
      "male      577\n",
      "female    314\n",
      "Name: Sex, dtype: int64\n",
      "\n",
      "\n",
      "Counts for Embarked\n",
      "S    644\n",
      "C    168\n",
      "Q     77\n",
      "Name: Embarked, dtype: int64\n"
     ]
    }
   ],
   "source": [
    "### OUTPUT SUMMARY STATISTICS \n",
    "print \"Print summary stats for all numeric variables\"\n",
    "print raw_data.describe()\n",
    "print '\\n'\n",
    "print 'Counts for sex'\n",
    "print raw_data['Sex'].value_counts()\n",
    "print '\\n'\n",
    "print 'Counts for Embarked'\n",
    "print raw_data['Embarked'].value_counts()"
   ]
  },
  {
   "cell_type": "markdown",
   "metadata": {},
   "source": [
    "As expected, we can see that there are missing values for age, there are only 714 logged. \n",
    "\n",
    "Let's look at some basic plots. Age and fare are our only true continuous variables so let's only draw scatters for them."
   ]
  },
  {
   "cell_type": "code",
   "execution_count": 4,
   "metadata": {},
   "outputs": [
    {
     "data": {
      "text/plain": [
       "<matplotlib.text.Text at 0xa3ef9b0>"
      ]
     },
     "execution_count": 4,
     "metadata": {},
     "output_type": "execute_result"
    },
    {
     "data": {
      "image/png": "[encoded data removed]",
      "text/plain": [
       "<matplotlib.figure.Figure at 0xa44ca20>"
      ]
     },
     "metadata": {},
     "output_type": "display_data"
    }
   ],
   "source": [
    "\n",
    "plotting.scatter_matrix(raw_data[['Age','Fare']])\n",
    "\n",
    "plt.suptitle('Scatter-Matrix')\n"
   ]
  },
  {
   "cell_type": "markdown",
   "metadata": {},
   "source": [
    "Age has a fairly normal distribution as you'd expect, with fare having a heavy right tail, indicating that there were some passengers that paid significantly more for there tickets. It's also worth noting the relationship between the variables. The top left scatter indicate either a linearly or logarithmically increase in age as the fare increases. We'll look at this in more detail later.  \n",
    "\n",
    "We notice that those who paid the highest amounts are in their mid thirties. Let's have a look at their data."
   ]
  },
  {
   "cell_type": "code",
   "execution_count": 5,
   "metadata": {},
   "outputs": [
    {
     "data": {
      "text/html": [
       "<div>\n",
       "<table border=\"1\" class=\"dataframe\">\n",
       "  <thead>\n",
       "    <tr style=\"text-align: right;\">\n",
       "      <th></th>\n",
       "      <th>PassengerId</th>\n",
       "      <th>Survived</th>\n",
       "      <th>Pclass</th>\n",
       "      <th>Name</th>\n",
       "      <th>Sex</th>\n",
       "      <th>Age</th>\n",
       "      <th>SibSp</th>\n",
       "      <th>Parch</th>\n",
       "      <th>Ticket</th>\n",
       "      <th>Fare</th>\n",
       "      <th>Cabin</th>\n",
       "      <th>Embarked</th>\n",
       "    </tr>\n",
       "  </thead>\n",
       "  <tbody>\n",
       "    <tr>\n",
       "      <th>258</th>\n",
       "      <td>259</td>\n",
       "      <td>1</td>\n",
       "      <td>1</td>\n",
       "      <td>Ward, Miss. Anna</td>\n",
       "      <td>female</td>\n",
       "      <td>35.0</td>\n",
       "      <td>0</td>\n",
       "      <td>0</td>\n",
       "      <td>PC 17755</td>\n",
       "      <td>512.3292</td>\n",
       "      <td>NaN</td>\n",
       "      <td>C</td>\n",
       "    </tr>\n",
       "    <tr>\n",
       "      <th>737</th>\n",
       "      <td>738</td>\n",
       "      <td>1</td>\n",
       "      <td>1</td>\n",
       "      <td>Lesurer, Mr. Gustave J</td>\n",
       "      <td>male</td>\n",
       "      <td>35.0</td>\n",
       "      <td>0</td>\n",
       "      <td>0</td>\n",
       "      <td>PC 17755</td>\n",
       "      <td>512.3292</td>\n",
       "      <td>B101</td>\n",
       "      <td>C</td>\n",
       "    </tr>\n",
       "    <tr>\n",
       "      <th>679</th>\n",
       "      <td>680</td>\n",
       "      <td>1</td>\n",
       "      <td>1</td>\n",
       "      <td>Cardeza, Mr. Thomas Drake Martinez</td>\n",
       "      <td>male</td>\n",
       "      <td>36.0</td>\n",
       "      <td>0</td>\n",
       "      <td>1</td>\n",
       "      <td>PC 17755</td>\n",
       "      <td>512.3292</td>\n",
       "      <td>B51 B53 B55</td>\n",
       "      <td>C</td>\n",
       "    </tr>\n",
       "    <tr>\n",
       "      <th>88</th>\n",
       "      <td>89</td>\n",
       "      <td>1</td>\n",
       "      <td>1</td>\n",
       "      <td>Fortune, Miss. Mabel Helen</td>\n",
       "      <td>female</td>\n",
       "      <td>23.0</td>\n",
       "      <td>3</td>\n",
       "      <td>2</td>\n",
       "      <td>19950</td>\n",
       "      <td>263.0000</td>\n",
       "      <td>C23 C25 C27</td>\n",
       "      <td>S</td>\n",
       "    </tr>\n",
       "    <tr>\n",
       "      <th>27</th>\n",
       "      <td>28</td>\n",
       "      <td>0</td>\n",
       "      <td>1</td>\n",
       "      <td>Fortune, Mr. Charles Alexander</td>\n",
       "      <td>male</td>\n",
       "      <td>19.0</td>\n",
       "      <td>3</td>\n",
       "      <td>2</td>\n",
       "      <td>19950</td>\n",
       "      <td>263.0000</td>\n",
       "      <td>C23 C25 C27</td>\n",
       "      <td>S</td>\n",
       "    </tr>\n",
       "  </tbody>\n",
       "</table>\n",
       "</div>"
      ],
      "text/plain": [
       "     PassengerId  Survived  Pclass                                Name  \\\n",
       "258          259         1       1                    Ward, Miss. Anna   \n",
       "737          738         1       1              Lesurer, Mr. Gustave J   \n",
       "679          680         1       1  Cardeza, Mr. Thomas Drake Martinez   \n",
       "88            89         1       1          Fortune, Miss. Mabel Helen   \n",
       "27            28         0       1      Fortune, Mr. Charles Alexander   \n",
       "\n",
       "        Sex   Age  SibSp  Parch    Ticket      Fare        Cabin Embarked  \n",
       "258  female  35.0      0      0  PC 17755  512.3292          NaN        C  \n",
       "737    male  35.0      0      0  PC 17755  512.3292         B101        C  \n",
       "679    male  36.0      0      1  PC 17755  512.3292  B51 B53 B55        C  \n",
       "88   female  23.0      3      2     19950  263.0000  C23 C25 C27        S  \n",
       "27     male  19.0      3      2     19950  263.0000  C23 C25 C27        S  "
      ]
     },
     "execution_count": 5,
     "metadata": {},
     "output_type": "execute_result"
    }
   ],
   "source": [
    "raw_data.sort_values('Fare',ascending=False)[0:5]"
   ]
  },
  {
   "cell_type": "markdown",
   "metadata": {},
   "source": [
    "Interesting that two of them are called Fortune!"
   ]
  },
  {
   "cell_type": "markdown",
   "metadata": {},
   "source": [
    "#### Wrangling\n",
    "Our first point of order should be to define our child flag for those under 10 years of age. Let's also add a more readable version of survived to our data."
   ]
  },
  {
   "cell_type": "code",
   "execution_count": 6,
   "metadata": {},
   "outputs": [
    {
     "name": "stdout",
     "output_type": "stream",
     "text": [
      "Looks like we have  62 Children in our dataset\n"
     ]
    }
   ],
   "source": [
    "### CREATE A CHILD_FLAG VARIABLE\n",
    "\n",
    "raw_data['child_flag'] = raw_data['Age']<10\n",
    "\n",
    "print \"Looks like we have \", raw_data['child_flag'].sum(), \"Children in our dataset\"\n",
    "\n",
    "### MAKE SURIVED, PCLASS & EMBARKED MORE READABLE\n",
    "raw_data[\"PassengerClass\"] = raw_data[\"Pclass\"].astype(\"category\")\n",
    "raw_data[\"PassengerClass\"].cat.categories=[\"First\",\"Second\",\"Third\"] \n",
    "raw_data[\"Survived_label\"] = raw_data[\"Survived\"].astype(\"category\")\n",
    "raw_data[\"Survived_label\"].cat.categories = [\"Died\", \"Survived\"]\n",
    "raw_data['Embarked_label'] = raw_data['Embarked'].astype(\"category\")\n",
    "raw_data[\"Embarked_label\"].cat.categories = ['Cherbourg','Queenstown','Southampton']\n"
   ]
  },
  {
   "cell_type": "markdown",
   "metadata": {},
   "source": [
    "In addition, we should deal with the missing age values. We could simply usethe sample mean, but it would be better to observe the relationship between some of the other variables and age first. Travel class could be related. Let's draw a box plot."
   ]
  },
  {
   "cell_type": "code",
   "execution_count": 7,
   "metadata": {},
   "outputs": [
    {
     "data": {
      "text/plain": [
       "<matplotlib.text.Text at 0xb722a20>"
      ]
     },
     "execution_count": 7,
     "metadata": {},
     "output_type": "execute_result"
    },
    {
     "data": {
      "image/png": "[encoded data removed]",
      "text/plain": [
       "<matplotlib.figure.Figure at 0xb4d84e0>"
      ]
     },
     "metadata": {},
     "output_type": "display_data"
    }
   ],
   "source": [
    "### CREATE SOME BASIC PLOTS TO EXPLORE AGE\n",
    "\n",
    "## BOX PLOTS BY CLASS\n",
    "sns.boxplot(x=\"PassengerClass\", y=\"Age\", data=raw_data, palette=\"Set1\");\n",
    "plt.suptitle('Distribution of Age by Passenger Class')\n"
   ]
  },
  {
   "cell_type": "markdown",
   "metadata": {},
   "source": [
    "It's pretty clear from the plot that the distribution of age is different within the different classes of travel. This isn't  surprising given the cost associated with the class of travel in question (shown below). Fur curiosities sake, rather than a box plot, we've used a violin plot to understand this relationship. This gives extra information on the Kernal desnsity estimation and allows us to split by other variables."
   ]
  },
  {
   "cell_type": "code",
   "execution_count": 8,
   "metadata": {},
   "outputs": [
    {
     "data": {
      "text/plain": [
       "<matplotlib.text.Text at 0xb62f438>"
      ]
     },
     "execution_count": 8,
     "metadata": {},
     "output_type": "execute_result"
    },
    {
     "data": {
      "image/png": "[encoded data removed]",
      "text/plain": [
       "<matplotlib.figure.Figure at 0xa639be0>"
      ]
     },
     "metadata": {},
     "output_type": "display_data"
    }
   ],
   "source": [
    "## VIOLIN PLOTS BY PCLASS\n",
    "\n",
    "sns.violinplot(x=\"PassengerClass\", y=\"Fare\", hue = \"Sex\", data=raw_data, split = True, palette=\"Set1\");\n",
    "plt.suptitle('Distribution of Fare by Passenger Class and Sex')"
   ]
  },
  {
   "cell_type": "markdown",
   "metadata": {},
   "source": [
    "On top of demonstrating the difference in fare (which we could test more thorougly, if it wasn't pointless!), the charts also indicate that women tend to pay more than men. This could be an interesting test outside of our survival question and help us understand the demographics and sociology of the time. But enough anthropolgy for now.\n",
    "\n",
    "Back to the case in hand. Age imputation. Other variables were also analysed against age, however neither embarking location or gender demonstrated significant differences in age distributions. We'll create a function to impute a variable using the mean, based on a user input group. This could come in handy for variables other than age, or even other data sets with far more variables!"
   ]
  },
  {
   "cell_type": "code",
   "execution_count": 9,
   "metadata": {},
   "outputs": [
    {
     "name": "stdout",
     "output_type": "stream",
     "text": [
      "Here are the values for age that we'll be using to replace the missing values\n",
      "\n",
      "\n",
      "Pclass\n",
      "1    38.233441\n",
      "2    29.877630\n",
      "3    25.140620\n",
      "Name: Age, dtype: float64\n",
      "Looks like we have  177 missing ages in our dataset\n",
      "\n",
      "\n",
      "Let's check out the first 10 rows...\n",
      "Looking good!\n"
     ]
    }
   ],
   "source": [
    "### GROUP THE DATA AND CALCULATE THE MEAN\n",
    "\n",
    "## THIS COULD BE USEFUL - CREATE A FUNCTION\n",
    "\n",
    "def groupedMean(data,groupVar,aggVar):\n",
    "    #CREATE GROUP OBJECT\n",
    "    groupby_var = data[aggVar].groupby(data[groupVar])\n",
    "    #RETURN CALC\n",
    "    return groupby_var.mean()\n",
    "\n",
    "\n",
    "## THAT'S PRETTY USEFUL, BUILD ONE FOR DESC WHICH MAY COME IN HANDY LATER\n",
    "def groupedDesc(data,groupVar,aggVar):\n",
    "     #CREATE GROUP OBJECT\n",
    "    groupby_var = data[aggVar].groupby(data[groupVar])\n",
    "    #RETURN CALC\n",
    "    return groupby_var.describe()\n",
    "\n",
    "#Print the values that we'll be using\n",
    "\n",
    "print \"Here are the values for age that we'll be using to replace the missing values\"\n",
    "print '\\n'\n",
    "print groupedMean(raw_data,'Pclass','Age')\n",
    "\n",
    "\n",
    "## CREATE A FUNCTION TO IMPUTE THE MEAN BY A GROUP AND TAG ROWS WITH IMPUTED VALUES\n",
    "def imputeMean(data,variable,group,flag):\n",
    "    ## CREATE FLAG\n",
    "    if flag == 1:\n",
    "        data['imp_flag'] = data[variable].isnull()\n",
    "        ## IMPUTE THE VARIABLE\n",
    "    data[variable].fillna(data.groupby(group)[variable].transform(\"mean\"),inplace=True)\n",
    "\n",
    "imputeMean(raw_data,'Age','Pclass',1)\n",
    "\n",
    "##CHECK THE OUTPUT\n",
    "print \"Looks like we have \", raw_data['imp_flag'].sum(), \"missing ages in our dataset\"\n",
    "print '\\n'\n",
    "print \"Let's check out the first 10 rows...\"\n",
    "raw_data[raw_data['imp_flag'] ==True][0:10]\n",
    "print \"Looking good!\"\n"
   ]
  },
  {
   "cell_type": "markdown",
   "metadata": {},
   "source": [
    "Now that we've cleaned up our data a bit, lets talke a look at some distributions."
   ]
  },
  {
   "cell_type": "code",
   "execution_count": 10,
   "metadata": {
    "scrolled": false
   },
   "outputs": [
    {
     "data": {
      "text/plain": [
       "<matplotlib.text.Text at 0xbd282b0>"
      ]
     },
     "execution_count": 10,
     "metadata": {},
     "output_type": "execute_result"
    },
    {
     "data": {
      "image/png": "[encoded data removed]",
      "text/plain": [
       "<matplotlib.figure.Figure at 0xb98ec88>"
      ]
     },
     "metadata": {},
     "output_type": "display_data"
    }
   ],
   "source": [
    "### Evaluate age\n",
    "sns.distplot(raw_data['Age'],kde=False,bins = 32,color='R')\n",
    "plt.suptitle('Histogram of Age')"
   ]
  },
  {
   "cell_type": "markdown",
   "metadata": {},
   "source": [
    "We can see that there are a large number of travellers in their mid 20's. A quick box plot will let us see how age was related to survival."
   ]
  },
  {
   "cell_type": "code",
   "execution_count": 11,
   "metadata": {},
   "outputs": [
    {
     "data": {
      "text/plain": [
       "<matplotlib.text.Text at 0xbfaad68>"
      ]
     },
     "execution_count": 11,
     "metadata": {},
     "output_type": "execute_result"
    },
    {
     "data": {
      "image/png": "[encoded data removed]",
      "text/plain": [
       "<matplotlib.figure.Figure at 0xbbdacc0>"
      ]
     },
     "metadata": {},
     "output_type": "display_data"
    }
   ],
   "source": [
    "### BOX PLOT BY SURVIVED\n",
    "sns.boxplot(x='Survived_label',y='Age', data = raw_data, palette = 'Set1')\n",
    "plt.suptitle('Box plot of Age by Survived')"
   ]
  },
  {
   "cell_type": "markdown",
   "metadata": {},
   "source": [
    "It doesn't appear that there's much of a relationship between age an whether or not someone survived. However, box plots alone aren't incredibly useful for answering our question around \"Women and children first!\". Let's createa a violin plot and check out the distributions."
   ]
  },
  {
   "cell_type": "code",
   "execution_count": 12,
   "metadata": {},
   "outputs": [
    {
     "data": {
      "text/plain": [
       "<matplotlib.text.Text at 0xa62d518>"
      ]
     },
     "execution_count": 12,
     "metadata": {},
     "output_type": "execute_result"
    },
    {
     "data": {
      "image/png": "[encoded data removed]",
      "text/plain": [
       "<matplotlib.figure.Figure at 0xa4c8240>"
      ]
     },
     "metadata": {},
     "output_type": "display_data"
    }
   ],
   "source": [
    "## VIOLIN PLOTS AGE BY Survived\n",
    "\n",
    "sns.violinplot(x=\"Survived_label\", y=\"Age\", hue = \"Sex\", data=raw_data, split = True, palette=\"Set1\");\n",
    "plt.suptitle('Distribution of Age by Survived and Sex')"
   ]
  },
  {
   "cell_type": "markdown",
   "metadata": {},
   "source": [
    "The chart indicates that very few male children died as the titanic sank. The distributions of the survivors are also quite interesting. We can see that there is a distinct pattern where young children are concerned. Let's look at some raw numbers and proportions to see if we can tease out any more information.\n",
    "\n",
    "We will look at the survival rate (proportion of survivors) within the dataset and split by our two key variables of interest, namely, Sex and child_flag. Once we have these statistics, we can test for difference using hypothesis tests."
   ]
  },
  {
   "cell_type": "markdown",
   "metadata": {},
   "source": [
    "### Survival rate\n",
    "#### Men vs. Women"
   ]
  },
  {
   "cell_type": "code",
   "execution_count": 13,
   "metadata": {},
   "outputs": [
    {
     "data": {
      "text/html": [
       "<div>\n",
       "<table border=\"1\" class=\"dataframe\">\n",
       "  <thead>\n",
       "    <tr>\n",
       "      <th></th>\n",
       "      <th>sum</th>\n",
       "      <th>len</th>\n",
       "      <th>mean</th>\n",
       "    </tr>\n",
       "    <tr>\n",
       "      <th></th>\n",
       "      <th>Survived</th>\n",
       "      <th>Survived</th>\n",
       "      <th>Survived</th>\n",
       "    </tr>\n",
       "    <tr>\n",
       "      <th>Sex</th>\n",
       "      <th></th>\n",
       "      <th></th>\n",
       "      <th></th>\n",
       "    </tr>\n",
       "  </thead>\n",
       "  <tbody>\n",
       "    <tr>\n",
       "      <th>female</th>\n",
       "      <td>233</td>\n",
       "      <td>314</td>\n",
       "      <td>0.742038</td>\n",
       "    </tr>\n",
       "    <tr>\n",
       "      <th>male</th>\n",
       "      <td>109</td>\n",
       "      <td>577</td>\n",
       "      <td>0.188908</td>\n",
       "    </tr>\n",
       "  </tbody>\n",
       "</table>\n",
       "</div>"
      ],
      "text/plain": [
       "            sum      len      mean\n",
       "       Survived Survived  Survived\n",
       "Sex                               \n",
       "female      233      314  0.742038\n",
       "male        109      577  0.188908"
      ]
     },
     "execution_count": 13,
     "metadata": {},
     "output_type": "execute_result"
    }
   ],
   "source": [
    "\n",
    "pd.pivot_table(raw_data,index=[\"Sex\"],values=[\"Survived\"],aggfunc=[np.sum,len,np.mean])\n"
   ]
  },
  {
   "cell_type": "markdown",
   "metadata": {},
   "source": [
    "We can see that 74% of women survived vs 19% of men. Whilst these are clearly quite different, let us formally test for statistical significance, with an aplha of 0.05.\n",
    "\n",
    "Our Null Hypothesis is that the sample means are equal."
   ]
  },
  {
   "cell_type": "code",
   "execution_count": 14,
   "metadata": {},
   "outputs": [
    {
     "name": "stdout",
     "output_type": "stream",
     "text": [
      " z-stat = 16.2188339307 \n",
      " p-value = 0.0\n"
     ]
    }
   ],
   "source": [
    "### CREATE A FUNCTION TO PERFORM A Z TEST ON PROPORTIONS\n",
    "\n",
    "def ztest_proportion(v1, n1, v2, n2):\n",
    "    \n",
    "    # HANDLE INPUTS TO ENSURE DIVISION CALCS DECIMALS (LEARNED THE HARD WAY...)\n",
    "    n1=float(n1)\n",
    "    n2=float(n2)\n",
    "    v1=float(v1)\n",
    "    v2=float(v2)\n",
    "    \n",
    "    ## CALC PROPORTIONS\n",
    "    p1 = v1/n1\n",
    "    p2 = v2/n2    \n",
    "    \n",
    "    ## CALC POPULATION PROPORTION\n",
    "    p = (v1+v2)/(n1+n2)\n",
    "    \n",
    "    ## CALC STANDARD ERROR\n",
    "    se = p*(1-p)*(1/n1+1/n2)\n",
    "    se = math.sqrt(se)\n",
    "    \n",
    "    ## CALC TEST STATISTIC\n",
    "    z = (p1-p2)/se\n",
    "    \n",
    "    ## CALC PVALUE\n",
    "    p = 1-stats.norm.cdf(abs(z))\n",
    "    return z, p\n",
    "\n",
    "count_female_surv = float(raw_data[raw_data[\"Sex\"] == \"female\"][\"Survived\"].count())\n",
    "count_male_surv = float(raw_data[raw_data[\"Sex\"] == \"male\"][\"Survived\"].count())\n",
    "\n",
    "sum_female_surv = float(raw_data[raw_data[\"Sex\"] == \"female\"][\"Survived\"].sum())\n",
    "sum_male_surv = float(raw_data[raw_data[\"Sex\"] == \"male\"][\"Survived\"].sum())\n",
    "\n",
    "z,p = ztest_proportion(sum_female_surv,count_female_surv,sum_male_surv,count_male_surv)\n",
    "print(' z-stat = {z} \\n p-value = {p}'.format(z=z,p=p))"
   ]
  },
  {
   "cell_type": "markdown",
   "metadata": {},
   "source": [
    "our p-value is less than our alpha of 0.05, so we reject the null hypothesis. The difference between men and women's survival on the Titancic is statistically significant. "
   ]
  },
  {
   "cell_type": "markdown",
   "metadata": {},
   "source": [
    "#### Children vs Adults"
   ]
  },
  {
   "cell_type": "code",
   "execution_count": 15,
   "metadata": {},
   "outputs": [
    {
     "data": {
      "text/html": [
       "<div>\n",
       "<table border=\"1\" class=\"dataframe\">\n",
       "  <thead>\n",
       "    <tr>\n",
       "      <th></th>\n",
       "      <th>sum</th>\n",
       "      <th>len</th>\n",
       "      <th>mean</th>\n",
       "    </tr>\n",
       "    <tr>\n",
       "      <th></th>\n",
       "      <th>Survived</th>\n",
       "      <th>Survived</th>\n",
       "      <th>Survived</th>\n",
       "    </tr>\n",
       "    <tr>\n",
       "      <th>child_flag</th>\n",
       "      <th></th>\n",
       "      <th></th>\n",
       "      <th></th>\n",
       "    </tr>\n",
       "  </thead>\n",
       "  <tbody>\n",
       "    <tr>\n",
       "      <th>False</th>\n",
       "      <td>304</td>\n",
       "      <td>829</td>\n",
       "      <td>0.366707</td>\n",
       "    </tr>\n",
       "    <tr>\n",
       "      <th>True</th>\n",
       "      <td>38</td>\n",
       "      <td>62</td>\n",
       "      <td>0.612903</td>\n",
       "    </tr>\n",
       "  </tbody>\n",
       "</table>\n",
       "</div>"
      ],
      "text/plain": [
       "                sum      len      mean\n",
       "           Survived Survived  Survived\n",
       "child_flag                            \n",
       "False           304      829  0.366707\n",
       "True             38       62  0.612903"
      ]
     },
     "execution_count": 15,
     "metadata": {},
     "output_type": "execute_result"
    }
   ],
   "source": [
    "pd.pivot_table(raw_data,index=[\"child_flag\"],values=[\"Survived\"],aggfunc=[np.sum,len,np.mean])"
   ]
  },
  {
   "cell_type": "markdown",
   "metadata": {},
   "source": [
    "Here we see that 61% of under 10's survived vs 37% of over 10's. Again these are clearly quite different, let us formally test for statistical significance, with an alpha of 0.05.\n",
    "\n",
    "Our Null Hypothesis is that the sample means are equal."
   ]
  },
  {
   "cell_type": "code",
   "execution_count": 16,
   "metadata": {},
   "outputs": [
    {
     "name": "stdout",
     "output_type": "stream",
     "text": [
      " z-stat = 3.8449823173 \n",
      " p-value = 6.02805659948e-05\n"
     ]
    }
   ],
   "source": [
    "count_child_surv = float(raw_data[raw_data[\"child_flag\"] == True][\"Survived\"].count())\n",
    "count_adult_surv = float(raw_data[raw_data[\"child_flag\"] == False][\"Survived\"].count())\n",
    "\n",
    "sum_child_surv = float(raw_data[raw_data[\"child_flag\"] == True][\"Survived\"].sum())\n",
    "sum_adult_surv = float(raw_data[raw_data[\"child_flag\"] == False][\"Survived\"].sum())\n",
    "\n",
    "z,p=ztest_proportion(sum_child_surv,count_child_surv,sum_adult_surv,count_adult_surv)\n",
    "print(' z-stat = {z} \\n p-value = {p}'.format(z=z,p=p))"
   ]
  },
  {
   "cell_type": "markdown",
   "metadata": {},
   "source": [
    "our p-value is less again than alpha = 0.05, so we reject the null hypothesis. The difference between adult and children's survival on the Titancic is statistically significant."
   ]
  },
  {
   "cell_type": "markdown",
   "metadata": {},
   "source": [
    "#### Combining the two"
   ]
  },
  {
   "cell_type": "code",
   "execution_count": 17,
   "metadata": {},
   "outputs": [
    {
     "data": {
      "text/html": [
       "<div>\n",
       "<table border=\"1\" class=\"dataframe\">\n",
       "  <thead>\n",
       "    <tr>\n",
       "      <th></th>\n",
       "      <th></th>\n",
       "      <th>sum</th>\n",
       "      <th>len</th>\n",
       "      <th>mean</th>\n",
       "    </tr>\n",
       "    <tr>\n",
       "      <th></th>\n",
       "      <th></th>\n",
       "      <th>Survived</th>\n",
       "      <th>Survived</th>\n",
       "      <th>Survived</th>\n",
       "    </tr>\n",
       "    <tr>\n",
       "      <th>Sex</th>\n",
       "      <th>child_flag</th>\n",
       "      <th></th>\n",
       "      <th></th>\n",
       "      <th></th>\n",
       "    </tr>\n",
       "  </thead>\n",
       "  <tbody>\n",
       "    <tr>\n",
       "      <th rowspan=\"2\" valign=\"top\">female</th>\n",
       "      <th>False</th>\n",
       "      <td>214</td>\n",
       "      <td>284</td>\n",
       "      <td>0.753521</td>\n",
       "    </tr>\n",
       "    <tr>\n",
       "      <th>True</th>\n",
       "      <td>19</td>\n",
       "      <td>30</td>\n",
       "      <td>0.633333</td>\n",
       "    </tr>\n",
       "    <tr>\n",
       "      <th rowspan=\"2\" valign=\"top\">male</th>\n",
       "      <th>False</th>\n",
       "      <td>90</td>\n",
       "      <td>545</td>\n",
       "      <td>0.165138</td>\n",
       "    </tr>\n",
       "    <tr>\n",
       "      <th>True</th>\n",
       "      <td>19</td>\n",
       "      <td>32</td>\n",
       "      <td>0.593750</td>\n",
       "    </tr>\n",
       "  </tbody>\n",
       "</table>\n",
       "</div>"
      ],
      "text/plain": [
       "                       sum      len      mean\n",
       "                  Survived Survived  Survived\n",
       "Sex    child_flag                            \n",
       "female False           214      284  0.753521\n",
       "       True             19       30  0.633333\n",
       "male   False            90      545  0.165138\n",
       "       True             19       32  0.593750"
      ]
     },
     "execution_count": 17,
     "metadata": {},
     "output_type": "execute_result"
    }
   ],
   "source": [
    "pd.pivot_table(raw_data,index=[\"Sex\",\"child_flag\"],values=[\"Survived\"],aggfunc=[np.sum,len,np.mean])"
   ]
  },
  {
   "cell_type": "markdown",
   "metadata": {},
   "source": [
    "It looks like the gender of a child had very little influence on whether or not they survived the disaster. Here our Null hypothesis is that Male Children's survival rate is the same as Female Children. Again, we'll take an alpha of 0.05."
   ]
  },
  {
   "cell_type": "code",
   "execution_count": 18,
   "metadata": {},
   "outputs": [
    {
     "name": "stdout",
     "output_type": "stream",
     "text": [
      " z-stat = 0.319776397572 \n",
      " p-value = 0.374568920454\n"
     ]
    }
   ],
   "source": [
    "# SMARTER WAY TO INPUT\n",
    "f_child_surv = raw_data[(raw_data[\"child_flag\"] == True) & (raw_data[\"Sex\"] == \"female\")][\"Survived\"]\n",
    "m_child_surv = raw_data[(raw_data[\"child_flag\"] == True) & (raw_data[\"Sex\"] == \"male\")][\"Survived\"]\n",
    "\n",
    "z,p=ztest_proportion(f_child_surv.sum(),f_child_surv.count(),m_child_surv.sum(),m_child_surv.count())\n",
    "\n",
    "print(' z-stat = {z} \\n p-value = {p}'.format(z=z,p=p))"
   ]
  },
  {
   "cell_type": "markdown",
   "metadata": {},
   "source": [
    "Here, our p-value is larger than alpha = 0.05, so we cannot reject the null hypothesis. This means that there is no statistical evidence to suggest that gender has any role to play in the survival of the titanic disaster when controling for age<10.\n",
    "\n",
    "Finally we'll test if being a woman OR a child offers is statistically significant to being an adult male."
   ]
  },
  {
   "cell_type": "code",
   "execution_count": 19,
   "metadata": {},
   "outputs": [
    {
     "name": "stdout",
     "output_type": "stream",
     "text": [
      " z-stat = 16.8472043212 \n",
      " p-value = 0.0\n"
     ]
    }
   ],
   "source": [
    "# SMARTER WAY TO INPUT\n",
    "f_or_child_surv = raw_data[(raw_data[\"child_flag\"] == True) | (raw_data[\"Sex\"] == \"female\")][\"Survived\"]\n",
    "m_adult_surv = raw_data[(raw_data[\"child_flag\"] == False) & (raw_data[\"Sex\"] == \"male\")][\"Survived\"]\n",
    "\n",
    "z,p=ztest_proportion(f_or_child_surv.sum(),f_or_child_surv.count(),m_adult_surv.sum(),m_adult_surv.count())\n",
    "\n",
    "print(' z-stat = {z} \\n p-value = {p}'.format(z=z,p=p))"
   ]
  },
  {
   "cell_type": "markdown",
   "metadata": {},
   "source": [
    "This is our most conclusive finding yet, allowing us to once more reject the Null and be confident that women and children were treated differently as the ship was sinking."
   ]
  },
  {
   "cell_type": "markdown",
   "metadata": {},
   "source": [
    "### Conclusion"
   ]
  },
  {
   "cell_type": "markdown",
   "metadata": {},
   "source": [
    "We can be confident that as the rescue operations were underway, the passengers and crew followed the motto of **\"Women and Children first!**. \n",
    "\n",
    "Whilst our findings have been conclusive given the data, our input has limitations. Whilst we have details on 891 passengers, there were in fact [1317 in total at the time of the disaster](http://www.titanicfacts.net/titanic-passengers.html). We also have no information on the crew that were aboard. The data that we did have did have some direct limitations such as missing values observations, particularly around age and cabin. Whilst we imputed age at a level of granularity, non of these imputed ages fell within our 'child_flag' threshold, meaning our results could be biased. This could be analysed using a regression and evaluating our imputed flag. \n",
    "\n",
    "With the above in mind, there's still a lot more to be analysed in this data set:\n",
    "\n",
    "* Did travelling with parent's increase a child's chance of survival?\n",
    "* Conversley, if you were a man, would travelling with your child decrease your chance of survival?\n",
    "* Did travelling with a sibling impact your chances?\n",
    "* Did the proximity of your cabin to cabin's with children present impact your odds?\n",
    "\n",
    "Who knows? We could, with a little more time, analysis and data. The obvious next step would be to extend the exploratory analysis and being building linear regressions to understand the relationships between the inputs in more detail. The implications of travelling with family, are of most interest to me, particularly when creating interactions with the Sex variable. My hypothesis would be that a woman travelling with family would have increased chance of survival, whereas for a man, if travelling with a female sibling or child chances would decrease.\n",
    "\n",
    "I've thoroughly enjoyed working through this dataset and getting to grips with pandas, scipy, jupyter and seaborn, I hope that you've enjoyed reading it.\n",
    "\n",
    "All the best,\n",
    "\n",
    "_Guy Bourne_"
   ]
  }
 ],
 "metadata": {
  "kernelspec": {
   "display_name": "Python [conda env:DAND]",
   "language": "python",
   "name": "conda-env-DAND-py"
  },
  "language_info": {
   "codemirror_mode": {
    "name": "ipython",
    "version": 2
   },
   "file_extension": ".py",
   "mimetype": "text/x-python",
   "name": "python",
   "nbconvert_exporter": "python",
   "pygments_lexer": "ipython2",
   "version": "2.7.12"
  }
 },
 "nbformat": 4,
 "nbformat_minor": 2
}
